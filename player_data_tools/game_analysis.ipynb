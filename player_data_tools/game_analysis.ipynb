{
 "cells": [
  {
   "cell_type": "markdown",
   "id": "98fdbe14-f559-4820-ad79-b02a7840687a",
   "metadata": {},
   "source": [
    "### Game analysis generator\n",
    "\n",
    "This notebook uses the [analyze-sgf](https://github.com/9beach/analyze-sgf) tool, which employs[KataGo's Analysis Engine](https://github.com/lightvector/KataGo/blob/master/docs/Analysis_Engine.md), to generate and organize KataGo analyses of full game SGF files. For the purposes of this project we assume input SGFs come from the output directory, but the basic features are universal for SGFs.\n",
    "\n",
    "Output:\n",
    "* SGF file containing the analysis in `./output/analyzed_sgf`\n",
    "* JSON file containing the analysis in `./output/analyzed_json`\n",
    "* cleaned Pandas-ready JSON analysis file in `./output/analyzed_json_clean`\n",
    "\n",
    "Maybe later:\n",
    "* Append outputs to player game datasets?"
   ]
  },
  {
   "cell_type": "markdown",
   "id": "58f2dec2-e99d-4968-8223-35b26e07d0be",
   "metadata": {
    "tags": []
   },
   "source": [
    "### Dependencies:\n",
    "\n",
    "This notebook requires the following to be installed on your machine:\n",
    "* [KataGo](https://github.com/lightvector/KataGo)\n",
    "* [analyze-sgf](https://github.com/9beach/analyze-sgf)\n",
    "\n",
    "In addition, you should modify the `.analyze-sgf.yml` file associated with your analyze-sgf installation to reflect your KataGo paths."
   ]
  },
  {
   "cell_type": "code",
   "execution_count": null,
   "id": "06d3cac4-09a5-48f9-b551-7d8ac1fbcbd0",
   "metadata": {
    "tags": []
   },
   "outputs": [],
   "source": [
    "import os\n",
    "import json\n",
    "import io\n",
    "import pandas as pd"
   ]
  },
  {
   "cell_type": "markdown",
   "id": "ca85f61f-3149-4e4a-a622-1370f74f4256",
   "metadata": {
    "tags": []
   },
   "source": [
    "Technically analyze-sgf can pull SGFs from the web as well. Maybe we'll make this more interactive later."
   ]
  },
  {
   "cell_type": "code",
   "execution_count": null,
   "id": "d24c06c4-5afc-4c8b-a759-1bbddfcb29ff",
   "metadata": {},
   "outputs": [],
   "source": [
    "# Replace with player id\n",
    "player_id = 'PLAYER_ID'\n",
    "# Replace with SGF filename, drop the '.sgf' extension.\n",
    "sgf_filename = 'FILENAME'\n",
    "path = './output/'+player_id"
   ]
  },
  {
   "cell_type": "markdown",
   "id": "6171c644-1abd-4ca1-a8b2-e55147602582",
   "metadata": {},
   "source": [
    "On Windows systems, the analyze-sgf shell command is `analyze-sgf.cmd`. On Unix systems, it is `analyze-sgf`. Modify next cell accordingly.\n",
    "\n",
    "This cell performs a full KataGo analysis of the game file, so it will take quite some time to complete if you set a large value of `maxVisits` in `.analyze-sgf.yml`."
   ]
  },
  {
   "cell_type": "code",
   "execution_count": null,
   "id": "a1c5be6e-cd36-40fa-ab2f-89fbc49cfc41",
   "metadata": {},
   "outputs": [],
   "source": [
    "!analyze-sgf.cmd -s {path+'/ogssgf/'+sgf_filename+'.sgf'}"
   ]
  },
  {
   "cell_type": "code",
   "execution_count": null,
   "id": "75bd99b6-67d5-4e23-bf1e-7cfe7007bd1c",
   "metadata": {},
   "outputs": [],
   "source": [
    "# Output organization and formatting\n",
    "\n",
    "try:\n",
    "    os.mkdir('output/'+str(player_id)+'/analyzed_sgf')\n",
    "except FileExistsError:\n",
    "    pass\n",
    "try:\n",
    "    os.mkdir('output/'+str(player_id)+'/analyzed_json')\n",
    "except FileExistsError:\n",
    "    pass\n",
    "try:\n",
    "    os.mkdir('output/'+str(player_id)+'/analyzed_json_clean')\n",
    "except FileExistsError:\n",
    "    pass\n",
    "\n",
    "os.replace(path+'/ogssgf/'+sgf_filename+'-analyzed.sgf', path+'/analyzed_sgf/'+sgf_filename+'-analyzed.sgf')\n",
    "os.replace(path+'/ogssgf/'+sgf_filename+'.json', path+'/analyzed_json/'+sgf_filename+'.json')\n",
    "\n",
    "with io.open(path+'/analyzed_json/'+sgf_filename+'.json', mode='r', encoding='utf-8') as f:\n",
    "    lines = f.readlines()[1:]\n",
    "data = [json.loads(x) for x in lines]\n",
    "with io.open(path+'/analyzed_json/'+sgf_filename+'.json', mode='w', encoding='utf-8') as f:\n",
    "    f.write(json.dumps(data,indent=2))\n",
    "    \n",
    "# Creating clean version of JSON analysis\n",
    "df = pd.read_json(path+'/analyzed_json/'+sgf_filename+'.json')\n",
    "rootInfo = pd.DataFrame([x for x in df['rootInfo']])\n",
    "df = pd.concat([df, rootInfo], axis=1)\n",
    "drop_columns = ['id','isDuringSearch', 'rootInfo',\n",
    "                'rawStScoreError', 'rawStWrError', 'rawVarTimeLeft',\n",
    "               'symHash', 'thisHash']\n",
    "df.set_index('turnNumber', inplace=True)\n",
    "df.drop(drop_columns, axis=1, inplace=True)\n",
    "df.to_json(path+'/analyzed_json_clean/'+sgf_filename+'_clean.json')"
   ]
  }
 ],
 "metadata": {
  "kernelspec": {
   "display_name": "Python 3 (ipykernel)",
   "language": "python",
   "name": "python3"
  },
  "language_info": {
   "codemirror_mode": {
    "name": "ipython",
    "version": 3
   },
   "file_extension": ".py",
   "mimetype": "text/x-python",
   "name": "python",
   "nbconvert_exporter": "python",
   "pygments_lexer": "ipython3",
   "version": "3.10.6"
  }
 },
 "nbformat": 4,
 "nbformat_minor": 5
}
