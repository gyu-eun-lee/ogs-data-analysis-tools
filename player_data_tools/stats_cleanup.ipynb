{
 "cells": [
  {
   "cell_type": "markdown",
   "id": "7e328cde-ad5c-49f6-a45b-e2964c4b7c23",
   "metadata": {},
   "source": [
    "### Games data cleanup\n",
    "\n",
    "This notebook performs some cleanup operations on the raw stats dump obtained from running `stats_dump.ipynb`, geared toward use in a later statistics/data science application.\n",
    "\n",
    "Not all cleanup operations here are universal. You may with to check them individually and modify them to suit your own needs."
   ]
  },
  {
   "cell_type": "code",
   "execution_count": null,
   "id": "3410f1a6-2865-4f37-998f-0c62d365fde7",
   "metadata": {},
   "outputs": [],
   "source": [
    "import json\n",
    "import pandas as pd\n",
    "from datetime import datetime\n",
    "from dateutil import parser"
   ]
  },
  {
   "cell_type": "markdown",
   "id": "447ba9cb-6cd0-4abc-9304-787e807a2fa6",
   "metadata": {},
   "source": [
    "Replace the following `player_id` number with the one whose game data you wish to clean."
   ]
  },
  {
   "cell_type": "code",
   "execution_count": null,
   "id": "871541b9-3115-4e24-9ce7-88232b4a7b5c",
   "metadata": {},
   "outputs": [],
   "source": [
    "player_id = dummy_id"
   ]
  },
  {
   "cell_type": "code",
   "execution_count": null,
   "id": "7fb2e328-c61e-45d5-956d-f0720effc4d7",
   "metadata": {},
   "outputs": [],
   "source": [
    "df = pd.read_json('./output/'+str(player_id)+'/datasets/raw_stats.json')"
   ]
  },
  {
   "cell_type": "markdown",
   "id": "e75be7f4-e9e7-4c65-8d39-4db2ee7137ce",
   "metadata": {},
   "source": [
    "This cell drops various rows and columns. It is not intended to be universally applicable. You should check which rows/columns are dropped and customize this cell to your particular needs."
   ]
  },
  {
   "cell_type": "code",
   "execution_count": null,
   "id": "956279cd-8bce-4a9c-87a9-0585661181e3",
   "metadata": {},
   "outputs": [],
   "source": [
    "# Drop annulled games, then drop annulled column and re-index\n",
    "df.drop(df.index[df['annulled'] == True].tolist(), inplace = True)\n",
    "df.drop(['annulled'], axis = 1, inplace = True)\n",
    "df.reset_index(drop = True, inplace = True)\n",
    "\n",
    "# Convert [width, height] information to single column (assuming you only only care about square board sizes)\n",
    "df.drop(['width'], axis = 1, inplace = True)\n",
    "df = df.rename(columns = {'height':'size'})\n",
    "\n",
    "# Define irrelevant columns - customize these according to individual need\n",
    "\n",
    "game_metadata = ['players', 'name', 'sgf_filename', 'flags', 'creator', 'source', 'mode']\n",
    "# these are from before the pre-2017 Glicko adoption\n",
    "deprecated = ['black_player_rating', 'white_player_rating', 'black_player_rank', 'white_player_rank']\n",
    "# keep these if you want to keep rengo info\n",
    "rengo = ['rengo', 'rengo_black_team', 'rengo_white_team', 'rengo_casual_mode']\n",
    "# keep these if you want to keep tournament info\n",
    "tournament = ['tournament', 'tournament_round', 'ladder']\n",
    "# keep this if you play correspondence with this setting and think it's relevant\n",
    "correspondence = ['pause_on_weekends']\n",
    "\n",
    "# Drop above columns\n",
    "df.drop(deprecated, axis = 1, inplace = True)\n",
    "df.drop(rengo, axis = 1, inplace = True)\n",
    "df.drop(game_metadata, axis = 1, inplace = True)\n",
    "df.drop(tournament, axis = 1, inplace = True)\n",
    "df.drop(correspondence, axis = 1, inplace = True)"
   ]
  },
  {
   "cell_type": "markdown",
   "id": "ac7f4fab-5376-4996-ae90-385f810885e0",
   "metadata": {},
   "source": [
    "This cell reorganizes the dataframe in terms of a player-vs-opponent perspective rather than a black-vs-white perspective. For instance, instead of `{'black':'player_id', 'white':'opponent_id'}`, we have `{'player_color':'black'}`. This is applied to:\n",
    "* player colors\n",
    "* player IDs\n",
    "* game results"
   ]
  },
  {
   "cell_type": "code",
   "execution_count": null,
   "id": "e48754af-1bab-42a0-90de-37f66b25754e",
   "metadata": {},
   "outputs": [],
   "source": [
    "playedBlack = df.index[df['black'] == player_id].tolist()\n",
    "playedWhite = df.index[df['white'] == player_id].tolist()\n",
    "\n",
    "player_color = ['white'] * df.shape[0]\n",
    "opponent_id = df.get('black')\n",
    "player_won = [False] * df.shape[0]\n",
    "\n",
    "df.insert(3, 'player_color', player_color)\n",
    "df.insert(4, 'opponent_id', player_won)\n",
    "df.insert(5, 'player_won', player_won)\n",
    "df.loc[playedBlack, 'player_color'] = 'black'\n",
    "df.loc[playedBlack, 'opponent_id'] = df.loc[playedBlack, 'white']\n",
    "df.loc[playedWhite, 'opponent_id'] = df.loc[playedWhite, 'black']\n",
    "df.drop(['black', 'white'], axis = 1, inplace = True)\n",
    "\n",
    "df.loc[playedBlack, 'player_won'] = df.loc[playedBlack, 'white_lost'] \n",
    "df.loc[playedWhite, 'player_won'] = df.loc[playedWhite, 'black_lost']\n",
    "df.drop(['black_lost', 'white_lost'], axis = 1, inplace = True)"
   ]
  },
  {
   "cell_type": "markdown",
   "id": "87b8eeaf-2694-4084-9404-76b0eb211921",
   "metadata": {},
   "source": [
    "This cell extracts the live/blitz/correspondence information from the `'time_control_parameters'` column. There is other potentially relevant information in here but I have chosen to drop it."
   ]
  },
  {
   "cell_type": "code",
   "execution_count": null,
   "id": "e9ea2bdf-ae45-4ae9-854a-d3b551b57a22",
   "metadata": {},
   "outputs": [],
   "source": [
    "speed = [json.loads(df['time_control_parameters'][i])['speed'] for i in range(df.shape[0])]\n",
    "df.insert(9, 'speed', speed)\n",
    "df.drop(['time_control_parameters'], axis = 1, inplace = True)"
   ]
  },
  {
   "cell_type": "markdown",
   "id": "9e22a05c-b36e-4d56-86c1-b6a8d8303e88",
   "metadata": {},
   "source": [
    "This cell computes the length of each game (to the minute, rounded down), then drops the `'ended'` column."
   ]
  },
  {
   "cell_type": "code",
   "execution_count": null,
   "id": "c0e345f9-b980-4198-bfda-1c1c300d39b2",
   "metadata": {},
   "outputs": [],
   "source": [
    "print(df['started'][0])\n",
    "parser.parse(df['started'][0])\n",
    "game_length = [divmod((parser.parse(df['ended'][i]) - parser.parse(df['started'][i])).seconds, 60)[0] for i in range(df.shape[0])]\n",
    "df.insert(0, 'game_length', game_length)\n",
    "df.drop(['ended'], axis = 1, inplace = True)"
   ]
  },
  {
   "cell_type": "markdown",
   "id": "61cdcf06-0ed5-4ea6-97a3-37927d0feac1",
   "metadata": {},
   "source": [
    "This cell organizes the ratings data at the time of each game."
   ]
  },
  {
   "cell_type": "code",
   "execution_count": null,
   "id": "3dfb0af2-a47b-40d7-bb6a-75a4d2eaba71",
   "metadata": {},
   "outputs": [],
   "source": [
    "# Extract historical ratings data and store in ['player_rating', 'player_deviation', 'player_volatility',\n",
    "#                                               'opp_rating', 'opp_deviation', 'opp_volatility']\n",
    "black_rating = pd.DataFrame([df['historical_ratings'][i]['black']['ratings']['overall']['rating'] \n",
    "                             for i in range(df.shape[0])], columns = ['black_rating'])\n",
    "black_deviation = pd.DataFrame([df['historical_ratings'][i]['black']['ratings']['overall']['deviation'] \n",
    "                                for i in range(df.shape[0])], columns = ['black_deviation'])\n",
    "black_volatility = pd.DataFrame([df['historical_ratings'][i]['black']['ratings']['overall']['volatility'] \n",
    "                                 for i in range(df.shape[0])], columns = ['black_volatility'])\n",
    "white_rating = [df['historical_ratings'][i]['white']['ratings']['overall']['rating'] for i in range(df.shape[0])]\n",
    "white_deviation = [df['historical_ratings'][i]['white']['ratings']['overall']['deviation'] for i in range(df.shape[0])]\n",
    "white_volatility = [df['historical_ratings'][i]['white']['ratings']['overall']['volatility'] for i in range(df.shape[0])]\n",
    "\n",
    "df.insert(0, 'player_rating', white_rating)\n",
    "df.insert(0, 'opponent_rating', white_rating)\n",
    "df.insert(0, 'player_deviation', white_deviation)\n",
    "df.insert(0, 'opponent_deviation', white_deviation)\n",
    "df.insert(0, 'player_volatility', white_volatility)\n",
    "df.insert(0, 'opponent_volatility', white_volatility)\n",
    "\n",
    "df.loc[playedBlack, 'player_rating'] = black_rating.loc[playedBlack, 'black_rating']\n",
    "df.loc[playedWhite, 'opponent_rating'] = black_rating.loc[playedWhite, 'black_rating']\n",
    "df.loc[playedBlack, 'player_deviation'] = black_deviation.loc[playedBlack, 'black_deviation']\n",
    "df.loc[playedWhite, 'opponent_deviation'] = black_deviation.loc[playedWhite, 'black_deviation']\n",
    "df.loc[playedBlack, 'player_volatility'] = black_volatility.loc[playedBlack, 'black_volatility']\n",
    "df.loc[playedWhite, 'opponent_volatility'] = black_volatility.loc[playedWhite, 'black_volatility']\n",
    "\n",
    "df.drop(['historical_ratings'], axis = 1, inplace = True)"
   ]
  },
  {
   "cell_type": "markdown",
   "id": "97b93740-adfc-4474-9cf2-07780929cf56",
   "metadata": {},
   "source": [
    "This cell reorganizes the columns according to the following paradigm:\n",
    "\n",
    "1. Game start time\n",
    "2. Game id information\n",
    "3. Player id information\n",
    "4. Result information\n",
    "5. Rules information\n",
    "6. Time information\n",
    "7. Player rank information\n",
    "\n",
    "It then sorts the dataframe by game start time (descending order). The start times are converted from `str` to `datetime` objects."
   ]
  },
  {
   "cell_type": "code",
   "execution_count": null,
   "id": "6c9b7e1b-ce9c-48ec-85e8-f7ee0a4d5f30",
   "metadata": {},
   "outputs": [],
   "source": [
    "cols = ['started',\n",
    "        'id', 'ranked',\n",
    "        'opponent_id', 'player_color',\n",
    "        'player_won', 'outcome',\n",
    "        'size', 'rules', 'handicap', 'komi', 'disable_analysis',\n",
    "        'time_control', 'time_per_move', 'game_length',\n",
    "        'player_rating', 'opponent_rating', 'player_deviation', 'opponent_deviation', 'player_volatility', 'opponent_volatility',\n",
    "        'related']\n",
    "df = df[cols]\n",
    "df['started'] = pd.to_datetime(df['started']).values\n",
    "df.sort_values(by = 'started', inplace = True, ascending = False)\n",
    "df.reset_index(drop = True, inplace = True)"
   ]
  },
  {
   "cell_type": "code",
   "execution_count": null,
   "id": "ba4b7eee-ba03-4a92-961a-3fe237ce44a5",
   "metadata": {},
   "outputs": [],
   "source": [
    "df.head()"
   ]
  },
  {
   "cell_type": "markdown",
   "id": "b2d3fcfc-6eae-4127-a141-aa4eda6f42e1",
   "metadata": {},
   "source": [
    "This cell stores our cleaned dataframe in a .json file for easy access during future analysis."
   ]
  },
  {
   "cell_type": "code",
   "execution_count": null,
   "id": "eca7ab67-2055-4ac5-b71d-86ab238051a9",
   "metadata": {},
   "outputs": [],
   "source": [
    "df.to_json(r'./output/'+str(player_id)+'/datasets/clean_stats.json')"
   ]
  }
 ],
 "metadata": {
  "kernelspec": {
   "display_name": "Python 3 (ipykernel)",
   "language": "python",
   "name": "python3"
  },
  "language_info": {
   "codemirror_mode": {
    "name": "ipython",
    "version": 3
   },
   "file_extension": ".py",
   "mimetype": "text/x-python",
   "name": "python",
   "nbconvert_exporter": "python",
   "pygments_lexer": "ipython3",
   "version": "3.10.6"
  }
 },
 "nbformat": 4,
 "nbformat_minor": 5
}
