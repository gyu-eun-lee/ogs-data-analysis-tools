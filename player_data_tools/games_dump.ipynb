{
 "cells": [
  {
   "cell_type": "markdown",
   "id": "d93f85af-7184-4195-9c7d-30a00c811f9d",
   "metadata": {},
   "source": [
    "### User OGS games dump\n",
    "\n",
    "This notebook generates a dump of your OGS games. It uses one of the previously created databases of games (via `stats_dump.ipynb` or `stats_clean.ipynb`) to enumerate a list of game IDs, then retrives JSON representations of each game from the OGS API, and finally converts them to SGF.\n",
    "\n",
    "Since the endpoints we call here contain more detailed information about each game than the `https://online-go.com/api/v1/players/<player_id>/games` endpoint, we also take the opportunity to create a new dump of game information (so as to avoid calling the API for this information later)."
   ]
  },
  {
   "cell_type": "code",
   "execution_count": null,
   "id": "b0141660-e812-4e52-ab88-cd1880779d34",
   "metadata": {},
   "outputs": [],
   "source": [
    "import requests\n",
    "import json\n",
    "import time\n",
    "import random\n",
    "import pandas as pd\n",
    "import os\n",
    "from sys import exit"
   ]
  },
  {
   "cell_type": "markdown",
   "id": "c964ba99-d139-45f1-8cbf-3166484ae3f9",
   "metadata": {},
   "source": [
    "Replace the following `player_id` number with the one whose games you wish to fetch. Replace the `dataset` name with the desired dataset in `./output/<player_id>/datasets`. The tool will fetch the games corresponding to the named dataset specifically.\n",
    "* Note: If you create your own datasets for use with this tool, do not drop the `'related'` column during dataset creation. It is used to request the json files for the games. (Technically, all we need is the game id to identify the correct endpoint, so as long as this information is present in the dataset you should be able to modify the code to achieve the same goals.)"
   ]
  },
  {
   "cell_type": "code",
   "execution_count": null,
   "id": "b2c5c391-60c6-4e15-b122-e1a040ec78c7",
   "metadata": {},
   "outputs": [],
   "source": [
    "player_id = dummy_id\n",
    "dataset = 'clean_stats.json'"
   ]
  },
  {
   "cell_type": "code",
   "execution_count": null,
   "id": "ff0c47d6-2860-4d62-b743-f96b57e45c86",
   "metadata": {},
   "outputs": [],
   "source": [
    "# Obtain API authorization keys\n",
    "with open('keys.txt', 'r') as f:\n",
    "    lines = f.readlines()\n",
    "    client_id = lines[0].split('\\\"')[1]\n",
    "    client_secret = lines[1].split('\\\"')[1]\n",
    "    username = lines[2].split('\\\"')[1]\n",
    "    password = lines[3].split('\\\"')[1]\n",
    "\n",
    "# Obtain authorization token\n",
    "s = requests.Session()\n",
    "response = s.post('https://online-go.com/oauth2/token/',data={'grant_type':'password','username':username,'password':password,'client_id':client_id,'client_secret':client_secret})\n",
    "result = response.json()\n",
    "token = result['access_token']\n",
    "headers = {'Authorization': 'Bearer {}'.format(token)}"
   ]
  },
  {
   "cell_type": "markdown",
   "id": "bfce4d82-33d6-468b-bbdf-8fcda4cf0e48",
   "metadata": {},
   "source": [
    "The following cell fetches the JSON representations of the games and stores them in the `./ogsjson` directory. The OGS API has a rate limit on requests, so there is also a very primitive rate backoff implemented. You will see some hangups in the output as the rate limit is encountered and the loop has to wait out its backoff time. This code block could take several minutes depending on how many games you've played."
   ]
  },
  {
   "cell_type": "code",
   "execution_count": null,
   "id": "5191634b-e710-4122-a696-60ceb41e67e4",
   "metadata": {},
   "outputs": [],
   "source": [
    "gamesList = [x['detail'] for x in pd.read_json('./output/'+str(player_id)+'/datasets/'+dataset)['related'].tolist()]\n",
    "games_dump = []\n",
    "try:\n",
    "    os.mkdir('output/'+str(player_id)+'/ogsjson')\n",
    "except FileExistsError:\n",
    "    pass\n",
    "\n",
    "attempts = 0\n",
    "max_attempts = 10\n",
    "games_fetched = 0\n",
    "\n",
    "for x in gamesList:\n",
    "    endpoint = 'https://online-go.com/api/v1/games/' + x[14:]\n",
    "    response = s.get(endpoint,  headers = headers)\n",
    "    while response.status_code == 429: # If rate limited, wait and then start again\n",
    "        print('Rate limit reached. Backing off before retrying query. Please wait...')\n",
    "        attempts += 1\n",
    "        if attempts >= max_attempts:\n",
    "            print('Too many attempts.')\n",
    "            break\n",
    "        else:\n",
    "            time.sleep((2 ** attempts) + random.random())\n",
    "            response = s.get(endpoint,  headers = headers)\n",
    "    # If not rate limited, continue\n",
    "    attempts = 0\n",
    "    try:\n",
    "        games_fetched += 1\n",
    "        games_dump.append(response.json())\n",
    "        game_json_path = './output/'+str(player_id)+'/ogsjson/'+str(response.json()['id'])+'.json'\n",
    "        game_sgf_path = './output/'+str(player_id)+'/ogssgf/'+str(response.json()['id'])+'.sgf'\n",
    "        games_dump[-1]['game_json_path'] = game_json_path\n",
    "        games_dump[-1]['game_sgf_path'] = game_sgf_path\n",
    "        with open(game_json_path, 'w', encoding='utf-8') as f:\n",
    "            f.write(json.dumps(response.json()['gamedata'], indent = 2))\n",
    "    except KeyError:\n",
    "        print(x)\n",
    "        print(response.json())\n",
    "        exit('KeyError')\n",
    "\n",
    "print(games_fetched, 'games fetched.')"
   ]
  },
  {
   "cell_type": "markdown",
   "id": "904a51af-5b8f-41c1-98fa-d0ddb31a66f1",
   "metadata": {},
   "source": [
    "This cell uses [ogstosgf](https://github.com/lightvector/ogstosgf) to convert each game to SGF format, then moves the SGFs to an output directory `./ogssgf`."
   ]
  },
  {
   "cell_type": "code",
   "execution_count": null,
   "id": "fc848b79-b266-4712-8316-0ab8fb15447d",
   "metadata": {},
   "outputs": [],
   "source": [
    "jsonPath = 'output/'+str(player_id)+'/ogsjson/'\n",
    "sgfPath = 'output/'+str(player_id)+'/ogssgf/'\n",
    "%run -i \"ogstosgf.py\" $jsonPath\n",
    "\n",
    "try:\n",
    "    os.mkdir('output/'+str(player_id)+'/ogssgf')\n",
    "except FileExistsError:\n",
    "    pass\n",
    "\n",
    "stats_path = './output/'+str(player_id)+'/datasets/'+dataset[:len(dataset)-5]+'_detailed.json'\n",
    "with open(stats_path, 'w', encoding='utf-8') as f:\n",
    "    f.write(json.dumps(games_dump, indent = 2))\n",
    "    \n",
    "for filename in os.listdir(jsonPath):\n",
    "    if filename.endswith('.sgf'):\n",
    "        os.replace(jsonPath + filename, sgfPath + filename)"
   ]
  }
 ],
 "metadata": {
  "kernelspec": {
   "display_name": "Python 3 (ipykernel)",
   "language": "python",
   "name": "python3"
  },
  "language_info": {
   "codemirror_mode": {
    "name": "ipython",
    "version": 3
   },
   "file_extension": ".py",
   "mimetype": "text/x-python",
   "name": "python",
   "nbconvert_exporter": "python",
   "pygments_lexer": "ipython3",
   "version": "3.10.6"
  }
 },
 "nbformat": 4,
 "nbformat_minor": 5
}
