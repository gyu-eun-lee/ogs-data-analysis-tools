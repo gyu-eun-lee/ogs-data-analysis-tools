{
 "cells": [
  {
   "cell_type": "markdown",
   "id": "a862e226-8294-424b-9e11-2405c2e7147c",
   "metadata": {
    "tags": []
   },
   "source": [
    "### Sharpness analytics\n",
    "\n",
    "In this notebook we define the sharpness of a board position and explore the definitions in the context of real games."
   ]
  },
  {
   "cell_type": "code",
   "execution_count": null,
   "id": "6dbddc51-a134-4db7-93c0-f3d94557ef6d",
   "metadata": {},
   "outputs": [],
   "source": [
    "import pandas as pd\n",
    "import matplotlib.pyplot as plt\n",
    "import numpy as np\n",
    "import math\n",
    "import seaborn as sns"
   ]
  },
  {
   "cell_type": "code",
   "execution_count": null,
   "id": "ebbd6a32-d022-4774-a89a-843e21308099",
   "metadata": {},
   "outputs": [],
   "source": [
    "player_id = '<player_id>'\n",
    "game_id = '<game_id>'\n",
    "gamedata_path = './output/'+player_id+'/analyzed_json_clean/'+game_id+'_clean.json'"
   ]
  },
  {
   "cell_type": "code",
   "execution_count": null,
   "id": "b0fb58cd-9caf-4475-9deb-74a35ee7dd9b",
   "metadata": {},
   "outputs": [],
   "source": [
    "df = pd.read_json(gamedata_path)\n",
    "df.sort_index(inplace=True) # safety line, sometimes the JSONs don't automatically come sorted by turn number for some reason"
   ]
  },
  {
   "cell_type": "markdown",
   "id": "0df4d0e2-7f31-4ff0-b0e5-16d6e94eafd9",
   "metadata": {},
   "source": [
    "### Sharpness\n",
    "\n",
    "**Definition:**\n",
    "Let $x_{n,1},\\ldots,x_{n,N}$ denote the moves suggested by the AI on turn $n$.\n",
    "Let $v_{n,j}$ denote the visits commited by the AI to each suggested move $x_{n,j}$, and $V_n = \\sum_{j=1}^N v_{n,j}$ the total number of visits for turn $n$.\n",
    "Define\n",
    "$$\n",
    "p_{n,j} = \\frac{v_{n,j}}{V_n};\n",
    "$$\n",
    "in particular $\\mathbf{p}_n = (p_{n,1},\\ldots,p_{n,N})$ is a probability vector.\n",
    "We define the *sharpness coefficient* $S_n$ at move $n$ as the $L^2$-norm of $\\mathbf{p}$, i.e.\n",
    "$$\n",
    "S_n = \\|\\mathbf{p}_n\\|_{L^2} = \\sqrt{\\sum_j p_{n,j}^2}.\n",
    "$$\n",
    "\n",
    "**Rationale:**\n",
    "$\\mathbf{p}_n$ is a probability vector representing the relative importance the AI places on each move, since the AI visits more important moves more frequently.\n",
    "Taking the $L^2$-norm of $\\mathbf{p}_n$ emphasizes those entries of $\\mathbf{p}_n$ which are close to $1.0$, while killing off the effect of those entries which are close to $0$.\n",
    "Consequently, $S_n$ is a measure of the degree of concentration of the mass of $\\mathbf{p}_n$ into its largest entries.\n",
    "It is largest when almost all visits are devoted to a single move, and smallest when the visits are equally distributed among all possible moves."
   ]
  },
  {
   "cell_type": "code",
   "execution_count": null,
   "id": "ff300d95-22ee-475f-aab8-5a8435b49f2c",
   "metadata": {},
   "outputs": [],
   "source": [
    "def sharpness(move):\n",
    "    total_visits = float(sum(pd.DataFrame(df['moveInfos'][move])['visits']))\n",
    "    return math.pow(sum([math.pow(x/total_visits,2) for x in pd.DataFrame(df['moveInfos'][move])['visits']]), 1/float(2))"
   ]
  },
  {
   "cell_type": "code",
   "execution_count": null,
   "id": "bf6c9452-b126-4c54-8d49-fa974a4b252f",
   "metadata": {},
   "outputs": [],
   "source": [
    "fig = plt.figure(figsize=(30,6))\n",
    "ax = fig.add_subplot()\n",
    "x_ticks = np.linspace(0, len(df.index), len(df.index)+1)\n",
    "ax.set_xticks(x_ticks)\n",
    "ax.set_ylim([0,1.1])\n",
    "ax.grid()\n",
    "# Plot winrate in blue, sharpness in red\n",
    "ax.plot(range(len(df.index)), df['winrate'], color='b')\n",
    "ax.plot(range(len(df.index)), [sharpness(move) for move in range(len(df.index))], color='r')"
   ]
  },
  {
   "cell_type": "markdown",
   "id": "185cf31b-d257-47a9-8cb0-6c27b284aa23",
   "metadata": {},
   "source": [
    "### Winrate & Sharpness plot\n",
    "\n",
    "The above plot shows the trajectory of winrate and sharpness per move, with winrate in blue and sharpness in red.\n",
    "\n",
    "Most completed games should show sharpness starting out at a low value, but rapidly spiking to occasional peaks (values near ~1.0).\n",
    "In the early game these peaks usually correspond to sente exchanges within corner joseki.\n",
    "In fact, most large peaks are indicators of moves which have at least near-sente status.\n",
    "\n",
    "In some games there are prolonged periods of the game with a consistently high sharpness coefficient.\n",
    "Often these periods correspond to those where both players are failing to notice a move that KataGo considers critical.\n",
    "(Such periods are often accompanied by wild swings in winrate.)"
   ]
  },
  {
   "cell_type": "code",
   "execution_count": null,
   "id": "d16461c4-5fe8-4c67-9eab-b3c8943c4764",
   "metadata": {},
   "outputs": [],
   "source": [
    "df.drop(['visits','scoreSelfplay', 'weight',],axis=1,inplace=True)\n",
    "df['sharpness'] = [sharpness(move) for move in range(len(df.index))]"
   ]
  },
  {
   "cell_type": "code",
   "execution_count": null,
   "id": "c300ac49-22ba-45c3-abf0-e19c50055318",
   "metadata": {},
   "outputs": [],
   "source": [
    "column_order = ['winrate', 'scoreLead', 'utility',\n",
    "                'scoreStdev', 'sharpness']\n",
    "df = df[column_order]\n",
    "black_moves = df.iloc[::2]\n",
    "white_moves = df.iloc[1::2]\n",
    "for index, row in white_moves.iterrows():\n",
    "    row['winrate'] = 1-row['winrate'] # changing metric into White winrate\n",
    "    row['scoreLead'] = -row['scoreLead'] # changing metric into White score lead\n",
    "    row['utility'] = -row['utility']"
   ]
  },
  {
   "cell_type": "code",
   "execution_count": null,
   "id": "f8397fe7-68e5-4312-b7d0-af9c21b1d7d9",
   "metadata": {},
   "outputs": [],
   "source": [
    "fig, (ax1,ax2) = plt.subplots(1,2,figsize=(20,10))\n",
    "sns.heatmap(black_moves.corr(),annot=True,cmap='inferno',linewidths=.9, ax=ax1)\n",
    "sns.heatmap(white_moves.corr(),annot=True,cmap='inferno',linewidths=.9, ax=ax2)"
   ]
  },
  {
   "cell_type": "markdown",
   "id": "3c1e291d-efc1-4cf4-a3d7-c79c49475cdc",
   "metadata": {},
   "source": [
    "### Correlation coefficients\n",
    "\n",
    "Above, we have two matrices of Pearson correlation coefficients among the numerical features in the DataFrame.\n",
    "The left matrix contains correlations specifically for moves played by Black, and the right for moves played by White.\n",
    "We single out the three target statistics `winrate`, `scoreLead`, and `utility` as \"victory statistics\" - these are the statistics that we'd like to maximize.\n",
    "(For reference, `utility` is a statistic combining `winrate` and `scoreLead` used by KataGo to rank its moves.)\n",
    "Here we are interested in the correlations between these statistics and our new `sharpness` coefficient - that is, the first three entries of the bottom row.\n",
    "\n",
    "The specific values of the correlations can vary greatly from game to game, and they serve as summary statistics describing the performance of each player when faced with sharp board positions.\n",
    "Here is a rough guide for intepreting the `sharpness-winrate` correlation scores (the other two correlations work similarly):\n",
    "\n",
    "1. Magnitudes below 0.3 are considered to indicate little to no correlation. In this case, it appears unlikely that there is a linear relationship between winrate and sharpness. It suggests that the player's winrate is largely unimpacted for better or for worse by the sharpness of the board position.\n",
    "2. Magnitudes between 0.3 and 0.5 are considered to indicate low correlation. In this case, there may be a weakly linear relationship between winrate and sharpness. It suggests a slight tendency for the player's winrate to be impacted in a specific direction (either positively or negatively) by the sharpness.\n",
    "3. Magnitudes between 0.5 and 0.7 are considered to indicate moderate correlation. In this case, there may be a moderately linear relationship between winrate and sharpness. It suggests a moderate tendency for the player's winrate to be impacted in a specific direction (either positively or negatively) by the sharpness.\n",
    "4. Magnitudes between 0.7 and 0.9 are considered to indicate high correlation. In this case, there appears to be a strongly linear relationship between winrate and sharpness. It suggests a high tendency for the player's winrate to be impacted in a specific direction (either positively or negatively) by the sharpness.\n",
    "5. Magnitudes between 0.9 and 1.0 are considered to indicate very high correlation. In this case, there appears to be a very strong linear relationship between winrate and sharpness. It suggests a very consistent tendency for the player's winrate to be impacted in a specific direction (either positively or negatively) by the sharpness.\n",
    "\n",
    "Specifically, very negative values of the `sharpness-winrate` correlation (-1.0 to -0.7) are generally bad news: it suggests that the player's performance in a sharp board position is consistently worse than in a non-sharp position, indicating consistent failures to recognize when certain moves are urgent or sente."
   ]
  },
  {
   "cell_type": "code",
   "execution_count": null,
   "id": "94d4ad08-d3f1-429b-8119-d8ef698914c8",
   "metadata": {},
   "outputs": [],
   "source": []
  }
 ],
 "metadata": {
  "kernelspec": {
   "display_name": "Python 3 (ipykernel)",
   "language": "python",
   "name": "python3"
  },
  "language_info": {
   "codemirror_mode": {
    "name": "ipython",
    "version": 3
   },
   "file_extension": ".py",
   "mimetype": "text/x-python",
   "name": "python",
   "nbconvert_exporter": "python",
   "pygments_lexer": "ipython3",
   "version": "3.10.6"
  }
 },
 "nbformat": 4,
 "nbformat_minor": 5
}
