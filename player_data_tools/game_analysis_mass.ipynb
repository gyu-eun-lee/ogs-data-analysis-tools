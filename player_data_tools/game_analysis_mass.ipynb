{
 "cells": [
  {
   "cell_type": "markdown",
   "id": "98fdbe14-f559-4820-ad79-b02a7840687a",
   "metadata": {},
   "source": [
    "### Game analysis generator\n",
    "\n",
    "This notebook works like `game_analysis.ipynb` but analyzes several SGFs at once. Has the same dependencies.\n",
    "\n",
    "Before proceeding, create the directory `./output/<player_id>/sgf_for_analysis/`."
   ]
  },
  {
   "cell_type": "code",
   "execution_count": null,
   "id": "06d3cac4-09a5-48f9-b551-7d8ac1fbcbd0",
   "metadata": {
    "tags": []
   },
   "outputs": [],
   "source": [
    "import os\n",
    "import json\n",
    "import io\n",
    "import pandas as pd"
   ]
  },
  {
   "cell_type": "markdown",
   "id": "ca85f61f-3149-4e4a-a622-1370f74f4256",
   "metadata": {
    "tags": []
   },
   "source": [
    "Technically analyze-sgf can pull SGFs from the web as well. Maybe we'll make this more interactive later.\n",
    "\n",
    "Place SGFs into a separate folder and replace the `path` variable accordingly."
   ]
  },
  {
   "cell_type": "code",
   "execution_count": null,
   "id": "d24c06c4-5afc-4c8b-a759-1bbddfcb29ff",
   "metadata": {},
   "outputs": [],
   "source": [
    "# Replace with player id\n",
    "player_id = '<player_id>'\n",
    "path = './output/'+player_id+'/sgf_for_analysis/'\n",
    "\n",
    "# Scan path directory for sgfs. Make sure you did the emptying step!\n",
    "sgf_list = os.listdir(path)\n",
    "\n",
    "sgf_string = ''\n",
    "for x in sgf_list:\n",
    "    sgf_string += path+x+' '\n",
    "print(sgf_string)"
   ]
  },
  {
   "cell_type": "markdown",
   "id": "6171c644-1abd-4ca1-a8b2-e55147602582",
   "metadata": {},
   "source": [
    "On Windows systems, the analyze-sgf shell command is `analyze-sgf.cmd`. On Unix systems, it is `analyze-sgf`. Modify next cell accordingly.\n",
    "\n",
    "This cell performs a full KataGo analysis of each game file, so it will take quite some time to complete if you set a large value of `maxVisits` in `.analyze-sgf.yml` and if you analyze many games at once.\n",
    "\n",
    "For reference, with an NVIDIA GeForce GTX 1650 my machine can typically analyze a full game (completed to scoring) in about 30 minutes with 2000 visits per root."
   ]
  },
  {
   "cell_type": "code",
   "execution_count": null,
   "id": "a1c5be6e-cd36-40fa-ab2f-89fbc49cfc41",
   "metadata": {},
   "outputs": [],
   "source": [
    "!analyze-sgf.cmd -s {sgf_string}"
   ]
  },
  {
   "cell_type": "code",
   "execution_count": null,
   "id": "75bd99b6-67d5-4e23-bf1e-7cfe7007bd1c",
   "metadata": {},
   "outputs": [],
   "source": [
    "# Output organization and formatting\n",
    "\n",
    "try:\n",
    "    os.mkdir(path+'analyzed_sgf')\n",
    "except FileExistsError:\n",
    "    pass\n",
    "try:\n",
    "    os.mkdir(path+'analyzed_json')\n",
    "except FileExistsError:\n",
    "    pass\n",
    "try:\n",
    "    os.mkdir(path+'analyzed_json_clean')\n",
    "except FileExistsError:\n",
    "    pass\n",
    "\n",
    "drop_columns = ['id','isDuringSearch', 'rootInfo',\n",
    "                'rawStScoreError', 'rawStWrError', 'rawVarTimeLeft',\n",
    "               'symHash', 'thisHash']\n",
    "for gameName in sgf_list:\n",
    "    os.replace(path+gameName[:len(gameName)-4]+'-analyzed.sgf', path+'/analyzed_sgf/'+gameName[:len(gameName)-4]+'-analyzed.sgf')\n",
    "    os.replace(path+gameName[:len(gameName)-4]+'.json', path+'/analyzed_json/'+gameName[:len(gameName)-4]+'.json')\n",
    "\n",
    "    with io.open(path+'/analyzed_json/'+gameName[:len(gameName)-4]+'.json', mode='r', encoding='utf-8') as f:\n",
    "        lines = f.readlines()[1:]\n",
    "    data = [json.loads(x) for x in lines]\n",
    "    with io.open(path+'/analyzed_json/'+gameName[:len(gameName)-4]+'.json', mode='w', encoding='utf-8') as f:\n",
    "        f.write(json.dumps(data,indent=2))\n",
    "    \n",
    "    # Creating clean version of JSON analysis\n",
    "    df = pd.read_json(path+'/analyzed_json/'+gameName[:len(gameName)-4]+'.json')\n",
    "    rootInfo = pd.DataFrame([x for x in df['rootInfo']])\n",
    "    df = pd.concat([df, rootInfo], axis=1)\n",
    "    df.set_index('turnNumber', inplace=True)\n",
    "    df.drop(drop_columns, axis=1, inplace=True)\n",
    "    df.sort_index(inplace=True)\n",
    "    df.to_json(path+'/analyzed_json_clean/'+gameName[:len(gameName)-4]+'_clean.json')"
   ]
  },
  {
   "cell_type": "code",
   "execution_count": null,
   "id": "2ec40c82-8500-48c9-9bd2-a09d6ef9707c",
   "metadata": {},
   "outputs": [],
   "source": []
  }
 ],
 "metadata": {
  "kernelspec": {
   "display_name": "Python 3 (ipykernel)",
   "language": "python",
   "name": "python3"
  },
  "language_info": {
   "codemirror_mode": {
    "name": "ipython",
    "version": 3
   },
   "file_extension": ".py",
   "mimetype": "text/x-python",
   "name": "python",
   "nbconvert_exporter": "python",
   "pygments_lexer": "ipython3",
   "version": "3.10.6"
  }
 },
 "nbformat": 4,
 "nbformat_minor": 5
}
