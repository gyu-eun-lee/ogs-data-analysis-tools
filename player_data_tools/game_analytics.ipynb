{
 "cells": [
  {
   "cell_type": "markdown",
   "id": "a862e226-8294-424b-9e11-2405c2e7147c",
   "metadata": {
    "tags": []
   },
   "source": [
    "### Game analytics\n",
    "\n",
    "Placeholder notebook for performing analysis on cleaned game analysis datasets (after running `game_analysis.ipynb`)."
   ]
  },
  {
   "cell_type": "code",
   "execution_count": null,
   "id": "6dbddc51-a134-4db7-93c0-f3d94557ef6d",
   "metadata": {},
   "outputs": [],
   "source": [
    "import json\n",
    "import pandas as pd"
   ]
  },
  {
   "cell_type": "code",
   "execution_count": null,
   "id": "ebbd6a32-d022-4774-a89a-843e21308099",
   "metadata": {},
   "outputs": [],
   "source": [
    "player_id = 'PLAYER_ID'\n",
    "game_id = 'GAME_ID'\n",
    "gamedata_path = './output/'+player_id+'/analyzed_json_clean/'+game_id+'_clean.json'"
   ]
  },
  {
   "cell_type": "code",
   "execution_count": null,
   "id": "b0fb58cd-9caf-4475-9deb-74a35ee7dd9b",
   "metadata": {},
   "outputs": [],
   "source": [
    "df = pd.read_json(gamedata_path)"
   ]
  },
  {
   "cell_type": "code",
   "execution_count": null,
   "id": "1548c19e-3a59-4e4a-897c-8658fc49c026",
   "metadata": {},
   "outputs": [],
   "source": [
    "df.head()"
   ]
  },
  {
   "cell_type": "code",
   "execution_count": null,
   "id": "79fc47c3-4f65-4c85-823c-bc4368ffdb4f",
   "metadata": {},
   "outputs": [],
   "source": [
    "pd.DataFrame(df['moveInfos'][36]).head()"
   ]
  },
  {
   "cell_type": "markdown",
   "id": "3f2e4e5b-e32d-4878-a937-be392d9b24bf",
   "metadata": {},
   "source": [
    "We'll use this data to formulate potentially interesting statistics. Potential targets:\n",
    "\n",
    "* Sharpness: A measure of the variety in strong options from a given position.\n",
    "* Directional Accuracy: A measure of the proximity of a move to the correct direction of play.\n",
    "\n",
    "Working with the KataGo and analyze-sgf code could give us access to other statistics. Potential targets:\n",
    "* Value Relative to Pass (VRP): The value of a position compared to passing. \n",
    "* Territory Impact: The effect of a move on final territory score. Slightly different from score change, looking to extract information on territorial vs. non-territorial moves."
   ]
  },
  {
   "cell_type": "markdown",
   "id": "0df4d0e2-7f31-4ff0-b0e5-16d6e94eafd9",
   "metadata": {},
   "source": [
    "### Sharpness (work in progress)\n",
    "\n",
    "Here we'll explore the datasets above to see if there is a viable definition of the *sharpness* of a position.\n",
    "\n",
    "**Basic principles of a sharpness coefficient:**\n",
    "1. Higher when a single move has a winrate change that is much higher than every other move's winrate change\n",
    "2. Lower when many moves have similar winrate changes and no move has a much higher one"
   ]
  },
  {
   "cell_type": "code",
   "execution_count": null,
   "id": "70c3bf79-3349-45db-b370-0a6e14453179",
   "metadata": {},
   "outputs": [],
   "source": [
    "from scipy import stats"
   ]
  },
  {
   "cell_type": "code",
   "execution_count": null,
   "id": "863aee9d-f627-4f09-b860-e12afa990b49",
   "metadata": {},
   "outputs": [],
   "source": [
    "move1 = pd.DataFrame(df['moveInfos'][36])\n",
    "move1['winrate_delta'] = move1['winrate']-df['winrate'][35]\n",
    "ax1 = move1.sort_values(by='winrate_delta').plot.bar(x='winrate_delta', y='weight')"
   ]
  },
  {
   "cell_type": "code",
   "execution_count": null,
   "id": "909c2edd-0b9a-4554-8fc1-b05751cca930",
   "metadata": {},
   "outputs": [],
   "source": [
    "probs = move1['visits']/float(move1['visits'].sum())\n",
    "winrate_delta = move1['winrate_delta']\n",
    "custom = stats.rv_discrete(name='custom', values=(winrate_delta, probs))\n",
    "pmf = custom.pmf(winrate_delta)\n",
    "stats.describe(pmf)"
   ]
  },
  {
   "cell_type": "code",
   "execution_count": null,
   "id": "122ed8c3-5fc7-46cf-bced-8e2541e575f3",
   "metadata": {},
   "outputs": [],
   "source": [
    "move2 = pd.DataFrame(df['moveInfos'][1])\n",
    "move2['winrate_delta'] = move2['winrate']-df['winrate'][3]\n",
    "ax2 = move2.sort_values(by='winrate_delta').plot.bar(x='winrate_delta', y='weight')"
   ]
  },
  {
   "cell_type": "code",
   "execution_count": null,
   "id": "ff486343-817b-475b-97f7-5541d7a68587",
   "metadata": {},
   "outputs": [],
   "source": [
    "probs = move2['visits']/float(move2['visits'].sum())\n",
    "winrate_delta = move2['winrate_delta']\n",
    "custom = stats.rv_discrete(name='custom', values=(winrate_delta, probs))\n",
    "pmf = custom.pmf(winrate_delta)\n",
    "stats.describe(pmf)"
   ]
  },
  {
   "cell_type": "code",
   "execution_count": null,
   "id": "cbc92dbe-46a3-4ba3-8bc0-ad5ef13d08f8",
   "metadata": {},
   "outputs": [],
   "source": []
  }
 ],
 "metadata": {
  "kernelspec": {
   "display_name": "Python 3 (ipykernel)",
   "language": "python",
   "name": "python3"
  },
  "language_info": {
   "codemirror_mode": {
    "name": "ipython",
    "version": 3
   },
   "file_extension": ".py",
   "mimetype": "text/x-python",
   "name": "python",
   "nbconvert_exporter": "python",
   "pygments_lexer": "ipython3",
   "version": "3.10.6"
  }
 },
 "nbformat": 4,
 "nbformat_minor": 5
}
