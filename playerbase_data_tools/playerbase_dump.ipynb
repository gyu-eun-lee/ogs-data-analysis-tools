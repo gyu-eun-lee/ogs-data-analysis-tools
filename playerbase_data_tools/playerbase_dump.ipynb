{
 "cells": [
  {
   "cell_type": "markdown",
   "id": "d93f85af-7184-4195-9c7d-30a00c811f9d",
   "metadata": {},
   "source": [
    "### Playerbase data dump\n",
    "\n",
    "This notebook generates a raw .json file of playerbase information."
   ]
  },
  {
   "cell_type": "code",
   "execution_count": 1,
   "id": "b0141660-e812-4e52-ab88-cd1880779d34",
   "metadata": {},
   "outputs": [],
   "source": [
    "import requests\n",
    "import json\n",
    "import time\n",
    "import random\n",
    "import os"
   ]
  },
  {
   "cell_type": "code",
   "execution_count": 3,
   "id": "ff0c47d6-2860-4d62-b743-f96b57e45c86",
   "metadata": {},
   "outputs": [],
   "source": [
    "# Obtain API authorization keys\n",
    "with open('keys.txt', 'r') as f:\n",
    "    lines = f.readlines()\n",
    "    client_id = lines[0].split('\\\"')[1]\n",
    "    client_secret = lines[1].split('\\\"')[1]\n",
    "    username = lines[2].split('\\\"')[1]\n",
    "    password = lines[3].split('\\\"')[1]\n",
    "\n",
    "# Obtaining authorization token\n",
    "s = requests.Session()\n",
    "response = s.post('https://online-go.com/oauth2/token/',data={'grant_type':'password','username':username,'password':password,'client_id':client_id,'client_secret':client_secret})\n",
    "result = response.json()\n",
    "token = result['access_token']\n",
    "headers = {'Authorization': 'Bearer {}'.format(token)}"
   ]
  },
  {
   "cell_type": "markdown",
   "id": "bfce4d82-33d6-468b-bbdf-8fcda4cf0e48",
   "metadata": {},
   "source": [
    "The following cell fetches information for the player's games. The OGS API has a rate limit on requests, so there is also a very primitive rate backoff implemented. You will see some hangups in the output as the rate limit is encountered and the loop has to wait out its backoff time. This code block could take several minutes depending on how many games you've played."
   ]
  },
  {
   "cell_type": "code",
   "execution_count": 4,
   "id": "5191634b-e710-4122-a696-60ceb41e67e4",
   "metadata": {},
   "outputs": [
    {
     "name": "stdout",
     "output_type": "stream",
     "text": [
      "https://online-go.com/api/v1/players/1024823/games?page=2\n",
      "https://online-go.com/api/v1/players/1024823/games?page=3\n"
     ]
    }
   ],
   "source": [
    "# Set endpoint, request first page of results\n",
    "endpoint = 'https://online-go.com/api/v1/players/'+str(player_id)+'/games'\n",
    "gamesPage = s.get(endpoint, headers = headers).json()\n",
    "games = gamesPage['results']\n",
    "nextPage = gamesPage['next']\n",
    "\n",
    "attempts = 0\n",
    "max_attempts = 10\n",
    "while nextPage != None:\n",
    "    response = s.get(nextPage,  headers = headers)\n",
    "    # If not rate limited, continue\n",
    "    if response.status_code != 429:\n",
    "        attempts = 0\n",
    "        print(nextPage)\n",
    "        gamesPage = response.json()\n",
    "        games.extend(gamesPage['results'])\n",
    "        nextPage = gamesPage['next']\n",
    "    # If rate limited, wait and then start again\n",
    "    else:\n",
    "        print('Rate limit reached. Backing off before retrying query. Please wait...')\n",
    "        attempts += 1\n",
    "        if attempts >= max_attempts:\n",
    "            print('Too many attempts.')\n",
    "            break\n",
    "        else:\n",
    "            time.sleep((2 ** attempts) + random.random())"
   ]
  },
  {
   "cell_type": "markdown",
   "id": "b72079f9-7545-4d09-8389-9f4cfe05671c",
   "metadata": {
    "tags": []
   },
   "source": [
    "The final cell creates a JSON file named `raw_stats.json` in the `./output/<player_id>/datasets` directory containing the raw data dump of the player's games."
   ]
  },
  {
   "cell_type": "code",
   "execution_count": 5,
   "id": "6e6e0a06-d323-4c0a-a6c4-5495d73dbd7e",
   "metadata": {},
   "outputs": [],
   "source": [
    "try:\n",
    "    os.mkdir('output')\n",
    "except FileExistsError:\n",
    "    pass\n",
    "try:\n",
    "    os.mkdir('output/'+str(player_id))\n",
    "except FileExistsError:\n",
    "    pass\n",
    "try:\n",
    "    os.mkdir('output/'+str(player_id)+'/datasets')\n",
    "except FileExistsError:\n",
    "    pass\n",
    "\n",
    "with open('./output/'+str(player_id)+'/datasets/raw_stats.json', 'w', encoding='utf-8') as f:\n",
    "    f.write(json.dumps(games, indent = 2))"
   ]
  }
 ],
 "metadata": {
  "kernelspec": {
   "display_name": "Python 3 (ipykernel)",
   "language": "python",
   "name": "python3"
  },
  "language_info": {
   "codemirror_mode": {
    "name": "ipython",
    "version": 3
   },
   "file_extension": ".py",
   "mimetype": "text/x-python",
   "name": "python",
   "nbconvert_exporter": "python",
   "pygments_lexer": "ipython3",
   "version": "3.10.6"
  }
 },
 "nbformat": 4,
 "nbformat_minor": 5
}
