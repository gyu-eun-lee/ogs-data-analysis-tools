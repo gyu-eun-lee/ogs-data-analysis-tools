{
 "cells": [
  {
   "cell_type": "markdown",
   "id": "d93f85af-7184-4195-9c7d-30a00c811f9d",
   "metadata": {},
   "source": [
    "### User OGS games dump\n",
    "\n",
    "This notebook generates a dump of your OGS games. The OGS API allows easy access to JSON representations of game records. (The JSON API is lighter on the server than dumping the SGFs directly.) An external tool is called to convert these JSON representations into .sgf format."
   ]
  },
  {
   "cell_type": "code",
   "execution_count": null,
   "id": "b0141660-e812-4e52-ab88-cd1880779d34",
   "metadata": {},
   "outputs": [],
   "source": [
    "import requests\n",
    "import json\n",
    "import time\n",
    "import random\n",
    "import pandas as pd\n",
    "import os\n",
    "from sys import exit"
   ]
  },
  {
   "cell_type": "markdown",
   "id": "df13a1aa-7966-447f-96c2-44f5cce038e2",
   "metadata": {},
   "source": [
    "Enter your OAuth keys and user login data here."
   ]
  },
  {
   "cell_type": "code",
   "execution_count": null,
   "id": "9deb984a-92d0-4b14-a1ae-b733915f394d",
   "metadata": {},
   "outputs": [],
   "source": [
    "# keys\n",
    "client_id = \"YOUR_CLIENT_ID\"\n",
    "client_secret = \"YOUR_CLIENT_SECRET\"\n",
    "\n",
    "# used to authorize access to account-specific API calls\n",
    "username = \"YOUR_OGS_USERNAME\"\n",
    "password = \"YOUR_OGS_PASSWORD\""
   ]
  },
  {
   "cell_type": "markdown",
   "id": "aecdce51-4a36-4c64-adcd-36709113f483",
   "metadata": {},
   "source": [
    "The next cell reads in the list of games to be pulled from the server.\n",
    "If you wish to pull in games from a different table of game data, modify the filename of the .json file accordingly.\n",
    "An admissible table needs to keep the `'related'` column from raw_stats."
   ]
  },
  {
   "cell_type": "code",
   "execution_count": null,
   "id": "4473b4f6-329a-4b23-bd50-c9f02bcdf5d0",
   "metadata": {},
   "outputs": [],
   "source": [
    "# gamesList = [x['detail'] for x in pd.read_json('raw_stats.json')['related'].tolist()]\n",
    "gamesList = [x['detail'] for x in pd.read_json('clean_stats.json')['related'].tolist()]"
   ]
  },
  {
   "cell_type": "code",
   "execution_count": null,
   "id": "ff0c47d6-2860-4d62-b743-f96b57e45c86",
   "metadata": {},
   "outputs": [],
   "source": [
    "# Obtaining authorization token\n",
    "s = requests.Session()\n",
    "response = s.post('https://online-go.com/oauth2/token/',data={\"grant_type\":\"password\",\"username\":username,\"password\":password,\"client_id\":client_id,\"client_secret\":client_secret})\n",
    "result = response.json()\n",
    "token = result['access_token']\n",
    "headers = {'Authorization': 'Bearer {}'.format(token)}"
   ]
  },
  {
   "cell_type": "markdown",
   "id": "bfce4d82-33d6-468b-bbdf-8fcda4cf0e48",
   "metadata": {},
   "source": [
    "The following cell fetches the JSON representations of the games and stores them in the `./ogsjson` directory. The OGS API has a rate limit on requests, so there is also a very primitive rate backoff implemented. You will see some hangups in the output as the rate limit is encountered and the loop has to wait out its backoff time. This code block could take several minutes depending on how many games you've played."
   ]
  },
  {
   "cell_type": "code",
   "execution_count": null,
   "id": "5191634b-e710-4122-a696-60ceb41e67e4",
   "metadata": {},
   "outputs": [],
   "source": [
    "try:\n",
    "    os.mkdir(\"ogsjson\")\n",
    "except FileExistsError:\n",
    "    pass\n",
    "\n",
    "attempts = 0\n",
    "max_attempts = 10\n",
    "#i = 0 # if you want to only pull a certain number of games\n",
    "\n",
    "for x in gamesList:\n",
    "#    i += 1\n",
    "#    if i > 100:\n",
    "#        break\n",
    "    endpoint = \"https://online-go.com/api/v1/games/\" + x[14:]\n",
    "    response = s.get(endpoint,  headers = headers)\n",
    "    # If not rate limited, continue\n",
    "    # If rate limited, wait\n",
    "    while response.status_code == 429:\n",
    "        # If rate limited, wait and then start again\n",
    "        print(\"Rate limit reached. Backing off before retrying query. Please wait...\")\n",
    "        attempts += 1\n",
    "        if attempts >= max_attempts:\n",
    "            print(\"Too many attempts.\")\n",
    "            break\n",
    "        else:\n",
    "            time.sleep((2 ** attempts) + random.random())\n",
    "            response = s.get(endpoint,  headers = headers)\n",
    "    # If not rate limited, continue\n",
    "    attempts = 0\n",
    "    try:\n",
    "        f = open(\"./ogsjson/\"+str(response.json()['id'])+\".json\", 'w', encoding=\"utf-8\")\n",
    "        f.write(json.dumps(response.json()['gamedata'], indent = 2))\n",
    "        f.close()\n",
    "    except KeyError:\n",
    "        print(x)\n",
    "        print(response.json())\n",
    "        exit(\"KeyError\")"
   ]
  },
  {
   "cell_type": "markdown",
   "id": "904a51af-5b8f-41c1-98fa-d0ddb31a66f1",
   "metadata": {},
   "source": [
    "This cell uses [ogstosgf](https://github.com/lightvector/ogstosgf) to convert each game to SGF format, then moves the SGFs to an output directory `./ogssgf`."
   ]
  },
  {
   "cell_type": "code",
   "execution_count": null,
   "id": "fc848b79-b266-4712-8316-0ab8fb15447d",
   "metadata": {},
   "outputs": [],
   "source": [
    "%run -i \"ogstosgf.py\" ogsjson/\n",
    "\n",
    "try:\n",
    "    os.mkdir(\"ogssgf\")\n",
    "except FileExistsError:\n",
    "    pass\n",
    "\n",
    "for filename in os.listdir(\"./ogsjson\"):\n",
    "    if filename.endswith('.sgf'):\n",
    "        os.replace(\"./ogsjson/\" + filename, \"./ogssgf/\" + filename)"
   ]
  },
  {
   "cell_type": "code",
   "execution_count": null,
   "id": "1af44d39-2ce2-4ec0-bc93-5df266aec0da",
   "metadata": {},
   "outputs": [],
   "source": []
  }
 ],
 "metadata": {
  "kernelspec": {
   "display_name": "Python 3 (ipykernel)",
   "language": "python",
   "name": "python3"
  },
  "language_info": {
   "codemirror_mode": {
    "name": "ipython",
    "version": 3
   },
   "file_extension": ".py",
   "mimetype": "text/x-python",
   "name": "python",
   "nbconvert_exporter": "python",
   "pygments_lexer": "ipython3",
   "version": "3.10.6"
  }
 },
 "nbformat": 4,
 "nbformat_minor": 5
}
