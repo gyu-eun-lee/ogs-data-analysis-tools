{
 "cells": [
  {
   "cell_type": "markdown",
   "id": "d93f85af-7184-4195-9c7d-30a00c811f9d",
   "metadata": {},
   "source": [
    "### Personal OGS games dump\n",
    "\n",
    "This notebook generates a .json file of game information for games played with your personal OGS account by calling the OGS API.\n",
    "It only tracks information *about* each game, and does not dump the games themselves (separate tool incoming)."
   ]
  },
  {
   "cell_type": "code",
   "execution_count": 1,
   "id": "b0141660-e812-4e52-ab88-cd1880779d34",
   "metadata": {},
   "outputs": [],
   "source": [
    "import requests\n",
    "import json\n",
    "import time\n",
    "import random"
   ]
  },
  {
   "cell_type": "markdown",
   "id": "df13a1aa-7966-447f-96c2-44f5cce038e2",
   "metadata": {},
   "source": [
    "Before proceeding, register an OAuth 2.0 application at https://online-go.com/oauth2/applications/.\n",
    "Copy the client id and client secret strings before saving.\n",
    "For the other fields I used client type 'public' and authorization type 'password'."
   ]
  },
  {
   "cell_type": "code",
   "execution_count": 2,
   "id": "9deb984a-92d0-4b14-a1ae-b733915f394d",
   "metadata": {},
   "outputs": [],
   "source": [
    "# keys\n",
    "client_id = \"YOUR_CLIENT_ID\"\n",
    "client_secret = \"YOUR_CLIENT_SECRET\"\n",
    "\n",
    "# used to authorize access to account-specific API calls\n",
    "username = \"YOUR_OGS_USERNAME\"\n",
    "password = \"YOUR_OGS_PASSWORD\""
   ]
  },
  {
   "cell_type": "code",
   "execution_count": 3,
   "id": "ff0c47d6-2860-4d62-b743-f96b57e45c86",
   "metadata": {},
   "outputs": [],
   "source": [
    "# Obtaining authorization token\n",
    "s = requests.Session()\n",
    "response = s.post('https://online-go.com/oauth2/token/',data={\"grant_type\":\"password\",\"username\":username,\"password\":password,\"client_id\":client_id,\"client_secret\":client_secret})\n",
    "result = response.json()\n",
    "token = result['access_token']\n",
    "headers = {'Authorization': 'Bearer {}'.format(token)}\n",
    "\n",
    "# Set endpoint, request first page of results\n",
    "endpoint = \"https://online-go.com/api/v1/me/games/\"\n",
    "gamesPage = s.get(endpoint, headers = headers).json()\n",
    "games = gamesPage['results']\n",
    "nextPage = gamesPage['next']"
   ]
  },
  {
   "cell_type": "markdown",
   "id": "bfce4d82-33d6-468b-bbdf-8fcda4cf0e48",
   "metadata": {},
   "source": [
    "The following cell fetches information for the remaining games. The OGS API has a rate limit on requests, so there is also a very primitive rate backoff implemented. You will see some hangups in the output as the rate limit is encountered and the loop has to wait out its backoff time. This code block could take several minutes depending on how many games you've played."
   ]
  },
  {
   "cell_type": "code",
   "execution_count": 4,
   "id": "5191634b-e710-4122-a696-60ceb41e67e4",
   "metadata": {},
   "outputs": [
    {
     "name": "stdout",
     "output_type": "stream",
     "text": [
      "https://online-go.com/api/v1/me/games/?page=2\n",
      "https://online-go.com/api/v1/me/games/?page=3\n",
      "https://online-go.com/api/v1/me/games/?page=4\n",
      "https://online-go.com/api/v1/me/games/?page=5\n",
      "https://online-go.com/api/v1/me/games/?page=6\n",
      "https://online-go.com/api/v1/me/games/?page=7\n",
      "https://online-go.com/api/v1/me/games/?page=8\n",
      "https://online-go.com/api/v1/me/games/?page=9\n",
      "https://online-go.com/api/v1/me/games/?page=10\n",
      "https://online-go.com/api/v1/me/games/?page=11\n",
      "https://online-go.com/api/v1/me/games/?page=12\n",
      "https://online-go.com/api/v1/me/games/?page=13\n",
      "https://online-go.com/api/v1/me/games/?page=14\n",
      "https://online-go.com/api/v1/me/games/?page=15\n",
      "https://online-go.com/api/v1/me/games/?page=16\n",
      "https://online-go.com/api/v1/me/games/?page=17\n",
      "https://online-go.com/api/v1/me/games/?page=18\n",
      "https://online-go.com/api/v1/me/games/?page=19\n",
      "https://online-go.com/api/v1/me/games/?page=20\n",
      "https://online-go.com/api/v1/me/games/?page=21\n",
      "https://online-go.com/api/v1/me/games/?page=22\n",
      "https://online-go.com/api/v1/me/games/?page=23\n",
      "https://online-go.com/api/v1/me/games/?page=24\n",
      "https://online-go.com/api/v1/me/games/?page=25\n",
      "https://online-go.com/api/v1/me/games/?page=26\n",
      "https://online-go.com/api/v1/me/games/?page=27\n",
      "https://online-go.com/api/v1/me/games/?page=28\n",
      "https://online-go.com/api/v1/me/games/?page=29\n",
      "https://online-go.com/api/v1/me/games/?page=30\n",
      "https://online-go.com/api/v1/me/games/?page=31\n",
      "https://online-go.com/api/v1/me/games/?page=32\n",
      "https://online-go.com/api/v1/me/games/?page=33\n",
      "https://online-go.com/api/v1/me/games/?page=34\n",
      "https://online-go.com/api/v1/me/games/?page=35\n",
      "https://online-go.com/api/v1/me/games/?page=36\n",
      "https://online-go.com/api/v1/me/games/?page=37\n",
      "https://online-go.com/api/v1/me/games/?page=38\n",
      "https://online-go.com/api/v1/me/games/?page=39\n",
      "https://online-go.com/api/v1/me/games/?page=40\n",
      "https://online-go.com/api/v1/me/games/?page=41\n",
      "https://online-go.com/api/v1/me/games/?page=42\n",
      "https://online-go.com/api/v1/me/games/?page=43\n",
      "https://online-go.com/api/v1/me/games/?page=44\n",
      "https://online-go.com/api/v1/me/games/?page=45\n",
      "https://online-go.com/api/v1/me/games/?page=46\n",
      "https://online-go.com/api/v1/me/games/?page=47\n",
      "https://online-go.com/api/v1/me/games/?page=48\n",
      "https://online-go.com/api/v1/me/games/?page=49\n",
      "https://online-go.com/api/v1/me/games/?page=50\n",
      "https://online-go.com/api/v1/me/games/?page=51\n",
      "https://online-go.com/api/v1/me/games/?page=52\n",
      "https://online-go.com/api/v1/me/games/?page=53\n",
      "https://online-go.com/api/v1/me/games/?page=54\n",
      "https://online-go.com/api/v1/me/games/?page=55\n",
      "https://online-go.com/api/v1/me/games/?page=56\n",
      "https://online-go.com/api/v1/me/games/?page=57\n",
      "https://online-go.com/api/v1/me/games/?page=58\n",
      "https://online-go.com/api/v1/me/games/?page=59\n",
      "https://online-go.com/api/v1/me/games/?page=60\n",
      "https://online-go.com/api/v1/me/games/?page=61\n",
      "https://online-go.com/api/v1/me/games/?page=62\n",
      "https://online-go.com/api/v1/me/games/?page=63\n",
      "https://online-go.com/api/v1/me/games/?page=64\n",
      "https://online-go.com/api/v1/me/games/?page=65\n",
      "https://online-go.com/api/v1/me/games/?page=66\n",
      "https://online-go.com/api/v1/me/games/?page=67\n",
      "https://online-go.com/api/v1/me/games/?page=68\n",
      "https://online-go.com/api/v1/me/games/?page=69\n",
      "https://online-go.com/api/v1/me/games/?page=70\n",
      "https://online-go.com/api/v1/me/games/?page=71\n",
      "https://online-go.com/api/v1/me/games/?page=72\n",
      "https://online-go.com/api/v1/me/games/?page=73\n",
      "https://online-go.com/api/v1/me/games/?page=74\n",
      "https://online-go.com/api/v1/me/games/?page=75\n",
      "https://online-go.com/api/v1/me/games/?page=76\n",
      "https://online-go.com/api/v1/me/games/?page=77\n",
      "https://online-go.com/api/v1/me/games/?page=78\n",
      "https://online-go.com/api/v1/me/games/?page=79\n",
      "https://online-go.com/api/v1/me/games/?page=80\n",
      "https://online-go.com/api/v1/me/games/?page=81\n",
      "https://online-go.com/api/v1/me/games/?page=82\n"
     ]
    }
   ],
   "source": [
    "attempts = 0\n",
    "max_attempts = 10\n",
    "while nextPage != None: # to avoid timeout, will fix later\n",
    "    response = s.get(nextPage,  headers = headers)\n",
    "    # If not rate limited, continue\n",
    "    if response.status_code != 429:\n",
    "        attempts = 0\n",
    "        print(nextPage)\n",
    "        gamesPage = response.json()\n",
    "        games.extend(gamesPage['results'])\n",
    "        nextPage = gamesPage['next']\n",
    "    # If rate limited, wait and then start again\n",
    "    else:\n",
    "        attempts += 1\n",
    "        if attempts >= max_attempts:\n",
    "            print(\"Too many attempts.\")\n",
    "            break\n",
    "        else:\n",
    "            time.sleep((2 ** attempts) + random.random())"
   ]
  },
  {
   "cell_type": "code",
   "execution_count": null,
   "id": "6e6e0a06-d323-4c0a-a6c4-5495d73dbd7e",
   "metadata": {},
   "outputs": [],
   "source": [
    "## Writing list of games to .json file\n",
    "gamesJson = json.dumps(games, indent = 2)\n",
    "f = open('games.json', 'w', encoding=\"utf-8\")\n",
    "f.write(gamesJson)\n",
    "f.close()"
   ]
  },
  {
   "cell_type": "code",
   "execution_count": null,
   "id": "4a850edb-65e3-4511-b2e6-a7fc6e5b28c1",
   "metadata": {},
   "outputs": [],
   "source": []
  }
 ],
 "metadata": {
  "kernelspec": {
   "display_name": "Python 3 (ipykernel)",
   "language": "python",
   "name": "python3"
  },
  "language_info": {
   "codemirror_mode": {
    "name": "ipython",
    "version": 3
   },
   "file_extension": ".py",
   "mimetype": "text/x-python",
   "name": "python",
   "nbconvert_exporter": "python",
   "pygments_lexer": "ipython3",
   "version": "3.10.6"
  }
 },
 "nbformat": 4,
 "nbformat_minor": 5
}
